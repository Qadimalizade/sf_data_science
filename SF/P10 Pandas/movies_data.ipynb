{
 "cells": [
  {
   "cell_type": "code",
   "execution_count": null,
   "metadata": {},
   "outputs": [],
   "source": [
    "import pandas as pd\n",
    "movies_data = pd.read_csv('data/movies_data/.csv', sep=',')\n",
    "display(melb_data)"
   ]
  }
 ],
 "metadata": {
  "kernelspec": {
   "display_name": "Python 3.9.10 64-bit",
   "language": "python",
   "name": "python3"
  },
  "language_info": {
   "name": "python",
   "version": "3.9.10"
  },
  "orig_nbformat": 4,
  "vscode": {
   "interpreter": {
    "hash": "84e7381642b29c5c2bb2ac8663021b995b8403aec67527abbc91447829b405d2"
   }
  }
 },
 "nbformat": 4,
 "nbformat_minor": 2
}
